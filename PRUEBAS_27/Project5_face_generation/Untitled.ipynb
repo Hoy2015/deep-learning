{
 "cells": [
  {
   "cell_type": "code",
   "execution_count": 3,
   "metadata": {
    "collapsed": false
   },
   "outputs": [
    {
     "name": "stdout",
     "output_type": "stream",
     "text": [
      "['i', 'am', 'jonathn', '.']\n"
     ]
    }
   ],
   "source": [
    "sentence = \"I am Jonathn .\"\n",
    "list_of_words_id = []\n",
    "lowercase_sentence = sentence.lower()\n",
    "prepared_sentence = lowercase_sentence.split()\n",
    "print (prepared_sentence)\n",
    " \n",
    "\n"
   ]
  },
  {
   "cell_type": "code",
   "execution_count": 10,
   "metadata": {
    "collapsed": false
   },
   "outputs": [
    {
     "name": "stdout",
     "output_type": "stream",
     "text": [
      "[1, 2, 3, 45]\n"
     ]
    }
   ],
   "source": [
    "list_of_words_id = []\n",
    "sentence = \"I am Jonathn .\"\n",
    "vocab_to_int ={\"i\":1, \"am\":2, \"jonathn\":3, \"<UNK>\":45}\n",
    "lowercase_sentence = sentence.lower()\n",
    "prepared_sentence = lowercase_sentence.split()\n",
    "substitute = [vocab_to_int[\"<UNK>\"]]\n",
    "for word in prepared_sentence:\n",
    "    if word in list(vocab_to_int.keys()):\n",
    "            list_of_words_id = list_of_words_id  + [vocab_to_int[word]]\n",
    "    if word not in list(vocab_to_int.keys()):\n",
    "            list_of_words_id = list_of_words_id  + substitute    \n",
    "print(list_of_words_id)\n",
    "    "
   ]
  },
  {
   "cell_type": "code",
   "execution_count": null,
   "metadata": {
    "collapsed": false
   },
   "outputs": [],
   "source": []
  },
  {
   "cell_type": "code",
   "execution_count": null,
   "metadata": {
    "collapsed": false
   },
   "outputs": [],
   "source": [
    "a = [\"es\", \"tu\", \"per\"]\n",
    "b = [ab for ch in a]\n",
    "print(b)"
   ]
  },
  {
   "cell_type": "code",
   "execution_count": null,
   "metadata": {
    "collapsed": false
   },
   "outputs": [],
   "source": [
    "a = [\"es\", \"tu\", \"per\"]\n",
    "b = [w  for w in z for z in a]\n",
    "print(b)"
   ]
  },
  {
   "cell_type": "code",
   "execution_count": null,
   "metadata": {
    "collapsed": false
   },
   "outputs": [],
   "source": [
    "a = [\"es\", \"tu\", \"per\"]\n",
    "b = [ch for ch in a]\n",
    "print(b)"
   ]
  },
  {
   "cell_type": "code",
   "execution_count": null,
   "metadata": {
    "collapsed": false
   },
   "outputs": [],
   "source": [
    "a = [\"es\", \"tu\", \"per\"]\n",
    "b = [ch for ch in a]\n",
    "c = [x for x in z for z in b]"
   ]
  },
  {
   "cell_type": "code",
   "execution_count": null,
   "metadata": {
    "collapsed": true
   },
   "outputs": [],
   "source": [
    "a = [\"es\", \"tu\", \"per\"]\n",
    "b = [ch for ch in a]\n",
    "c = [w.split() for w in b]"
   ]
  },
  {
   "cell_type": "code",
   "execution_count": 29,
   "metadata": {
    "collapsed": false
   },
   "outputs": [
    {
     "name": "stdout",
     "output_type": "stream",
     "text": [
      "[['es', 'tu', 'per'], ['rt', 'free']]\n"
     ]
    }
   ],
   "source": [
    "a = [\"es\", \"tu\", \"per\"]\n",
    "b = [\"rt\", \"free\"]\n",
    "c =[]\n",
    "c.append(a)\n",
    "c.append(b)\n",
    "print(c)\n"
   ]
  },
  {
   "cell_type": "code",
   "execution_count": 17,
   "metadata": {
    "collapsed": false
   },
   "outputs": [],
   "source": []
  },
  {
   "cell_type": "code",
   "execution_count": 19,
   "metadata": {
    "collapsed": false
   },
   "outputs": [
    {
     "data": {
      "text/plain": [
       "['cgss', 'f']"
      ]
     },
     "execution_count": 19,
     "metadata": {},
     "output_type": "execute_result"
    }
   ],
   "source": [
    "sentences = \"cgss\\nfff\\nffff\\n\"\n",
    "sentences[:6].split('\\n')"
   ]
  },
  {
   "cell_type": "code",
   "execution_count": 30,
   "metadata": {
    "collapsed": false
   },
   "outputs": [
    {
     "name": "stdout",
     "output_type": "stream",
     "text": [
      "Counter({'it': 2, 'ypu': 1})\n",
      "['it', 'ypu']\n"
     ]
    }
   ],
   "source": [
    "from collections import Counter\n",
    "\n",
    "super = [\"it\", \"it\",\"ypu\"]\n",
    " \n",
    "super2 = Counter(super)\n",
    "ordered_counts= sorted (super2, key = super2.get, reverse = True)\n",
    "print(super2)\n",
    "print(ordered_counts)"
   ]
  },
  {
   "cell_type": "code",
   "execution_count": 13,
   "metadata": {
    "collapsed": false
   },
   "outputs": [
    {
     "name": "stdout",
     "output_type": "stream",
     "text": [
      "['it', 'it', 'ypu', 'it', 'it', 'ypu', 'it', 'it', 'ypu']\n"
     ]
    }
   ],
   "source": [
    "super3 = super*3\n",
    "print(super3)"
   ]
  },
  {
   "cell_type": "code",
   "execution_count": 31,
   "metadata": {
    "collapsed": false
   },
   "outputs": [
    {
     "name": "stdout",
     "output_type": "stream",
     "text": [
      "<enumerate object at 0x10a8aaa20>\n"
     ]
    }
   ],
   "source": [
    "int_to_vocab ={1:\"er\",2:\"rty\", 3:\"terr\", 4:\"trrerr\" }\n",
    "su2 = enumerate(int_to_vocab)\n",
    "print(su2)"
   ]
  },
  {
   "cell_type": "markdown",
   "metadata": {},
   "source": [
    "# import numpy as np\n",
    "int_to_vocab ={1:\"er\",2:\"rty\", 3:\"terr\", 4:\"trrerr\" }\n",
    "word_picked = np.random.choice(list(int_to_vocab.values()), p=0.80)\n",
    "print (word_picked)"
   ]
  },
  {
   "cell_type": "code",
   "execution_count": 28,
   "metadata": {
    "collapsed": false
   },
   "outputs": [
    {
     "name": "stdout",
     "output_type": "stream",
     "text": [
      "rty\n"
     ]
    }
   ],
   "source": [
    "int_to_vocab ={1:\"er\",2:\"rty\", 3:\"terr\", 4:\"trrerr\" }\n",
    "prob =(0.1, 0.2, 0.4, 0.3)\n",
    "word_picked = np.random.choice(list(int_to_vocab.values()), p = prob)\n",
    "print (word_picked)"
   ]
  },
  {
   "cell_type": "code",
   "execution_count": 2,
   "metadata": {
    "collapsed": false
   },
   "outputs": [
    {
     "name": "stdout",
     "output_type": "stream",
     "text": [
      "[3, 4, 5, 78]\n"
     ]
    }
   ],
   "source": [
    "r =(3,4,5)\n",
    "f=[*r,78]\n",
    "print (f)"
   ]
  },
  {
   "cell_type": "code",
   "execution_count": null,
   "metadata": {
    "collapsed": true
   },
   "outputs": [],
   "source": []
  }
 ],
 "metadata": {
  "anaconda-cloud": {},
  "kernelspec": {
   "display_name": "Python [conda env:Sentiment_Analysis]",
   "language": "python",
   "name": "conda-env-Sentiment_Analysis-py"
  },
  "language_info": {
   "codemirror_mode": {
    "name": "ipython",
    "version": 3
   },
   "file_extension": ".py",
   "mimetype": "text/x-python",
   "name": "python",
   "nbconvert_exporter": "python",
   "pygments_lexer": "ipython3",
   "version": "3.6.0"
  }
 },
 "nbformat": 4,
 "nbformat_minor": 1
}
